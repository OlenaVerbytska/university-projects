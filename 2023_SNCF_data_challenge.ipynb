{
 "cells": [
  {
   "cell_type": "code",
   "execution_count": 1,
   "id": "initial_id",
   "metadata": {
    "collapsed": true,
    "ExecuteTime": {
     "end_time": "2023-11-12T18:52:19.676524300Z",
     "start_time": "2023-11-12T18:52:14.749228600Z"
    }
   },
   "outputs": [],
   "source": [
    "import pandas as pd\n",
    "import numpy as np\n",
    "import sklearn.ensemble\n",
    "from sklearn.preprocessing import LabelEncoder\n",
    "from sklearn.model_selection import train_test_split\n",
    "from lazypredict.Supervised import LazyRegressor\n",
    "from sklearn.metrics import mean_absolute_error\n",
    "import optuna"
   ]
  },
  {
   "cell_type": "markdown",
   "source": [
    "# 1. Data preprocessing"
   ],
   "metadata": {
    "collapsed": false
   },
   "id": "896fc6b464b7363a"
  },
  {
   "cell_type": "code",
   "execution_count": 2,
   "outputs": [],
   "source": [
    "X_train_orig = pd.read_csv(\"Xtrain_hgcGIrA.csv\", parse_dates=['date'])\n",
    "Y_train_orig = pd.read_csv(\"Ytrain_yL5OjS4.csv\")\n",
    "X_test_orig = pd.read_csv(\"Xtest.csv\", parse_dates=['date'])\n",
    "\n",
    "Xtrain = pd.DataFrame.copy(X_train_orig)\n",
    "Y_train = pd.DataFrame.copy(Y_train_orig)['p0q0']\n",
    "Xtest = pd.DataFrame.copy(X_test_orig)"
   ],
   "metadata": {
    "collapsed": false,
    "ExecuteTime": {
     "end_time": "2023-11-12T18:52:19.749202200Z",
     "start_time": "2023-11-12T18:52:19.677524900Z"
    }
   },
   "id": "5696407be831447f"
  },
  {
   "cell_type": "code",
   "execution_count": 3,
   "outputs": [],
   "source": [
    "def data_label(X, X_test):\n",
    "    X['day'] = X['date'].dt.weekday\n",
    "    X_test['day'] = X_test['date'].dt.weekday\n",
    "\n",
    "    # if hour = NA, then hour_id = -1\n",
    "    X['hour_id'] = X['hour'].fillna(-1)\n",
    "    X_test['hour_id'] = X_test['hour'].fillna(-1)\n",
    "    \n",
    "    le_1 = LabelEncoder()\n",
    "    le_1.fit(list(X['hour']) + list(X_test['hour']))\n",
    "    choose_not_na = (X['hour_id'] != -1)\n",
    "    X.loc[choose_not_na, 'hour_id'] = le_1.transform(X.loc[choose_not_na, 'hour'])\n",
    "    choose_not_na_t = (X_test['hour_id'] != -1)\n",
    "    X_test.loc[choose_not_na_t, 'hour_id'] = le_1.transform(X_test.loc[choose_not_na_t, 'hour'])\n",
    "     \n",
    "    le_2 = LabelEncoder()\n",
    "    le_2.fit(list(X['station']) + list(X_test['station']))\n",
    "    X['station_id'] = le_2.transform(X['station'])\n",
    "    X_test['station_id'] = le_2.transform(X_test['station'])\n",
    "\n",
    "    return X, X_test"
   ],
   "metadata": {
    "collapsed": false,
    "ExecuteTime": {
     "end_time": "2023-11-12T18:52:19.763763200Z",
     "start_time": "2023-11-12T18:52:19.755215400Z"
    }
   },
   "id": "3808a2bb2465a26d"
  },
  {
   "cell_type": "code",
   "execution_count": 4,
   "outputs": [],
   "source": [
    "def data_drop(X, X_test):\n",
    "    cols_to_keep = ['p1q0', 'p2q0', 'p3q0', 'p0q1', 'p0q2', 'p0q3', 'hour_id', 'station_id', 'train', 'day']\n",
    "    X_drop = X.loc[:, cols_to_keep]\n",
    "    X_drop_test = X_test.loc[:, cols_to_keep]\n",
    "    \n",
    "    return X_drop, X_drop_test"
   ],
   "metadata": {
    "collapsed": false,
    "ExecuteTime": {
     "end_time": "2023-11-12T18:52:19.764762600Z",
     "start_time": "2023-11-12T18:52:19.760249500Z"
    }
   },
   "id": "3c41be8386d5ea9c"
  },
  {
   "cell_type": "code",
   "execution_count": 5,
   "outputs": [],
   "source": [
    "def na_lag_0(X, X_test):\n",
    "    X_imput = X.fillna(0)\n",
    "    X_imput_test = X_test.fillna(0)\n",
    "    \n",
    "    return X_imput, X_imput_test"
   ],
   "metadata": {
    "collapsed": false,
    "ExecuteTime": {
     "end_time": "2023-11-12T18:52:19.793201100Z",
     "start_time": "2023-11-12T18:52:19.767192Z"
    }
   },
   "id": "449f40aa095190b7"
  },
  {
   "cell_type": "code",
   "execution_count": 6,
   "outputs": [],
   "source": [
    "X_train, X_test = na_lag_0(*data_drop(*data_label(Xtrain, Xtest)))"
   ],
   "metadata": {
    "collapsed": false,
    "ExecuteTime": {
     "end_time": "2023-11-12T18:52:19.897204300Z",
     "start_time": "2023-11-12T18:52:19.774199200Z"
    }
   },
   "id": "fb6efc1f58daf19"
  },
  {
   "cell_type": "markdown",
   "source": [
    "# 2. Model selection"
   ],
   "metadata": {
    "collapsed": false
   },
   "id": "32942cc1051e5a9a"
  },
  {
   "cell_type": "code",
   "execution_count": 7,
   "outputs": [],
   "source": [
    "x_train, x_val, y_train, y_val = train_test_split(X_train, Y_train, random_state=26, test_size=0.2)"
   ],
   "metadata": {
    "collapsed": false,
    "ExecuteTime": {
     "end_time": "2023-11-12T18:52:19.911176600Z",
     "start_time": "2023-11-12T18:52:19.894204400Z"
    }
   },
   "id": "6c32604ec9a0945c"
  },
  {
   "cell_type": "code",
   "execution_count": 8,
   "outputs": [
    {
     "name": "stderr",
     "output_type": "stream",
     "text": [
      " 21%|██▏       | 9/42 [00:16<01:36,  2.92s/it]"
     ]
    },
    {
     "name": "stdout",
     "output_type": "stream",
     "text": [
      "GammaRegressor model failed to execute\n",
      "Some value(s) of y are out of the valid range of the loss 'HalfGammaLoss'.\n"
     ]
    },
    {
     "name": "stderr",
     "output_type": "stream",
     "text": [
      " 79%|███████▊  | 33/42 [06:36<01:31, 10.22s/it]"
     ]
    },
    {
     "name": "stdout",
     "output_type": "stream",
     "text": [
      "QuantileRegressor model failed to execute\n",
      "Solver interior-point is not anymore available in SciPy >= 1.11.0.\n"
     ]
    },
    {
     "name": "stderr",
     "output_type": "stream",
     "text": [
      "100%|██████████| 42/42 [07:02<00:00, 10.05s/it]\n"
     ]
    },
    {
     "name": "stdout",
     "output_type": "stream",
     "text": [
      "[LightGBM] [Info] Auto-choosing row-wise multi-threading, the overhead of testing was 0.000913 seconds.\n",
      "You can set `force_row_wise=true` to remove the overhead.\n",
      "And if memory is not enough, you can set `force_col_wise=true`.\n",
      "[LightGBM] [Info] Total Bins 1636\n",
      "[LightGBM] [Info] Number of data points in the train set: 24895, number of used features: 10\n",
      "[LightGBM] [Info] Start training from score 0.249139\n"
     ]
    }
   ],
   "source": [
    "reg = LazyRegressor(verbose=0, ignore_warnings=False, custom_metric=mean_absolute_error)\n",
    "models, predictions = reg.fit(x_train, x_val, y_train, y_val)"
   ],
   "metadata": {
    "collapsed": false,
    "ExecuteTime": {
     "end_time": "2023-11-12T18:59:22.125769600Z",
     "start_time": "2023-11-12T18:52:19.906175300Z"
    }
   },
   "id": "398b7d6e4fed7832"
  },
  {
   "cell_type": "code",
   "execution_count": 9,
   "outputs": [
    {
     "name": "stdout",
     "output_type": "stream",
     "text": [
      "                       mean_absolute_error  RMSE  Adjusted R-Squared\n",
      "Model                                                               \n",
      "ExtraTreesRegressor                   0.01  0.02                0.99\n",
      "RandomForestRegressor                 0.01  0.02                0.99\n"
     ]
    }
   ],
   "source": [
    "print(models.loc[pd.to_numeric(models['mean_absolute_error']) < 0.011, ['mean_absolute_error', 'RMSE', 'Adjusted R-Squared']].sort_values(by='mean_absolute_error'))"
   ],
   "metadata": {
    "collapsed": false,
    "ExecuteTime": {
     "end_time": "2023-11-12T18:59:22.210503800Z",
     "start_time": "2023-11-12T18:59:22.138772800Z"
    }
   },
   "id": "239e1d872b77352f"
  },
  {
   "cell_type": "markdown",
   "source": [
    "# 3. Hyperparameter optimization"
   ],
   "metadata": {
    "collapsed": false
   },
   "id": "829bf43a9eb8a3ff"
  },
  {
   "cell_type": "code",
   "execution_count": 10,
   "outputs": [],
   "source": [
    "def objective(trial):\n",
    "    x_train, x_val, y_train, y_val = train_test_split(X_train, Y_train, random_state=26, test_size=0.2)\n",
    "    \n",
    "    n_estimators = trial.suggest_int(\"n_estimators\", 500, 4000, step=500)\n",
    "    min_samples_split = trial.suggest_int(\"min_samples_split\", 2, 15, step=1)\n",
    "    \n",
    "    reg = sklearn.ensemble.ExtraTreesRegressor(n_estimators=n_estimators, min_samples_split=min_samples_split, n_jobs=-1, random_state=26).fit(x_train, y_train)\n",
    "    \n",
    "    y_pred = reg.predict(x_val)\n",
    "\n",
    "    return np.abs(y_pred - y_val).mean()"
   ],
   "metadata": {
    "collapsed": false,
    "ExecuteTime": {
     "end_time": "2023-11-12T18:59:22.210503800Z",
     "start_time": "2023-11-12T18:59:22.172322400Z"
    }
   },
   "id": "83887a54682b0c5b"
  },
  {
   "cell_type": "code",
   "execution_count": 11,
   "outputs": [
    {
     "name": "stderr",
     "output_type": "stream",
     "text": [
      "[I 2023-11-12 19:59:22,184] A new study created in memory with name: no-name-e3f4a3c7-98bc-4ba1-be00-45594bab579e\n",
      "[I 2023-11-12 19:59:26,895] Trial 0 finished with value: 0.00992073682206869 and parameters: {'n_estimators': 1000, 'min_samples_split': 12}. Best is trial 0 with value: 0.00992073682206869.\n",
      "[I 2023-11-12 19:59:46,135] Trial 1 finished with value: 0.00992211243620301 and parameters: {'n_estimators': 4000, 'min_samples_split': 12}. Best is trial 0 with value: 0.00992073682206869.\n",
      "[I 2023-11-12 20:00:00,726] Trial 2 finished with value: 0.00990218674858264 and parameters: {'n_estimators': 2000, 'min_samples_split': 5}. Best is trial 2 with value: 0.00990218674858264.\n",
      "[I 2023-11-12 20:00:12,913] Trial 3 finished with value: 0.0098630927001898 and parameters: {'n_estimators': 2000, 'min_samples_split': 7}. Best is trial 3 with value: 0.0098630927001898.\n",
      "[I 2023-11-12 20:00:15,637] Trial 4 finished with value: 0.009868031832409056 and parameters: {'n_estimators': 500, 'min_samples_split': 9}. Best is trial 3 with value: 0.0098630927001898.\n",
      "[I 2023-11-12 20:00:37,260] Trial 5 finished with value: 0.009968746441026605 and parameters: {'n_estimators': 4000, 'min_samples_split': 14}. Best is trial 3 with value: 0.0098630927001898.\n",
      "[I 2023-11-12 20:00:40,639] Trial 6 finished with value: 0.009881861789288075 and parameters: {'n_estimators': 500, 'min_samples_split': 6}. Best is trial 3 with value: 0.0098630927001898.\n",
      "[I 2023-11-12 20:00:47,802] Trial 7 finished with value: 0.009943438931180036 and parameters: {'n_estimators': 1500, 'min_samples_split': 13}. Best is trial 3 with value: 0.0098630927001898.\n",
      "[I 2023-11-12 20:01:06,932] Trial 8 finished with value: 0.010007101079548325 and parameters: {'n_estimators': 1500, 'min_samples_split': 2}. Best is trial 3 with value: 0.0098630927001898.\n",
      "[I 2023-11-12 20:01:20,120] Trial 9 finished with value: 0.009897886478804158 and parameters: {'n_estimators': 2500, 'min_samples_split': 11}. Best is trial 3 with value: 0.0098630927001898.\n",
      "[I 2023-11-12 20:01:38,959] Trial 10 finished with value: 0.009859869119349137 and parameters: {'n_estimators': 3000, 'min_samples_split': 7}. Best is trial 10 with value: 0.009859869119349137.\n",
      "[I 2023-11-12 20:01:57,729] Trial 11 finished with value: 0.009859869119349135 and parameters: {'n_estimators': 3000, 'min_samples_split': 7}. Best is trial 11 with value: 0.009859869119349135.\n",
      "[I 2023-11-12 20:02:22,913] Trial 12 finished with value: 0.009941302458652908 and parameters: {'n_estimators': 3000, 'min_samples_split': 4}. Best is trial 11 with value: 0.009859869119349135.\n",
      "[I 2023-11-12 20:02:40,358] Trial 13 finished with value: 0.009866672768072062 and parameters: {'n_estimators': 3000, 'min_samples_split': 9}. Best is trial 11 with value: 0.009859869119349135.\n",
      "[I 2023-11-12 20:02:58,390] Trial 14 finished with value: 0.009852676629771991 and parameters: {'n_estimators': 3000, 'min_samples_split': 8}. Best is trial 14 with value: 0.009852676629771991.\n",
      "[I 2023-11-12 20:03:17,597] Trial 15 finished with value: 0.009876911939413768 and parameters: {'n_estimators': 3500, 'min_samples_split': 10}. Best is trial 14 with value: 0.009852676629771991.\n",
      "[I 2023-11-12 20:03:42,488] Trial 16 finished with value: 0.009987521090253304 and parameters: {'n_estimators': 2500, 'min_samples_split': 3}. Best is trial 14 with value: 0.009852676629771991.\n",
      "[I 2023-11-12 20:04:04,122] Trial 17 finished with value: 0.00986021751330379 and parameters: {'n_estimators': 3500, 'min_samples_split': 7}. Best is trial 14 with value: 0.009852676629771991.\n",
      "[I 2023-11-12 20:04:24,784] Trial 18 finished with value: 0.0098554730039785 and parameters: {'n_estimators': 3500, 'min_samples_split': 8}. Best is trial 14 with value: 0.009852676629771991.\n",
      "[I 2023-11-12 20:04:43,464] Trial 19 finished with value: 0.009876911939413768 and parameters: {'n_estimators': 3500, 'min_samples_split': 10}. Best is trial 14 with value: 0.009852676629771991.\n",
      "[I 2023-11-12 20:05:13,728] Trial 20 finished with value: 0.009897308467392094 and parameters: {'n_estimators': 4000, 'min_samples_split': 5}. Best is trial 14 with value: 0.009852676629771991.\n",
      "[I 2023-11-12 20:05:31,991] Trial 21 finished with value: 0.009852676629771991 and parameters: {'n_estimators': 3000, 'min_samples_split': 8}. Best is trial 14 with value: 0.009852676629771991.\n",
      "[I 2023-11-12 20:05:52,956] Trial 22 finished with value: 0.009855473003978496 and parameters: {'n_estimators': 3500, 'min_samples_split': 8}. Best is trial 14 with value: 0.009852676629771991.\n",
      "[I 2023-11-12 20:06:07,758] Trial 23 finished with value: 0.009853513784816671 and parameters: {'n_estimators': 2500, 'min_samples_split': 8}. Best is trial 14 with value: 0.009852676629771991.\n",
      "[I 2023-11-12 20:06:20,827] Trial 24 finished with value: 0.00988115972508356 and parameters: {'n_estimators': 2500, 'min_samples_split': 10}. Best is trial 14 with value: 0.009852676629771991.\n",
      "[I 2023-11-12 20:06:34,603] Trial 25 finished with value: 0.009878284572368737 and parameters: {'n_estimators': 2000, 'min_samples_split': 6}. Best is trial 14 with value: 0.009852676629771991.\n",
      "[I 2023-11-12 20:06:48,417] Trial 26 finished with value: 0.00986643385752246 and parameters: {'n_estimators': 2500, 'min_samples_split': 9}. Best is trial 14 with value: 0.009852676629771991.\n",
      "[I 2023-11-12 20:07:06,126] Trial 27 finished with value: 0.009852676629771993 and parameters: {'n_estimators': 3000, 'min_samples_split': 8}. Best is trial 14 with value: 0.009852676629771991.\n",
      "[I 2023-11-12 20:07:20,518] Trial 28 finished with value: 0.010000570520025981 and parameters: {'n_estimators': 3000, 'min_samples_split': 15}. Best is trial 14 with value: 0.009852676629771991.\n",
      "[I 2023-11-12 20:07:35,582] Trial 29 finished with value: 0.009899603221102013 and parameters: {'n_estimators': 3000, 'min_samples_split': 11}. Best is trial 14 with value: 0.009852676629771991.\n",
      "[I 2023-11-12 20:07:45,603] Trial 30 finished with value: 0.009873803076598853 and parameters: {'n_estimators': 1500, 'min_samples_split': 6}. Best is trial 14 with value: 0.009852676629771991.\n",
      "[I 2023-11-12 20:08:00,093] Trial 31 finished with value: 0.009853513784816671 and parameters: {'n_estimators': 2500, 'min_samples_split': 8}. Best is trial 14 with value: 0.009852676629771991.\n",
      "[I 2023-11-12 20:08:17,718] Trial 32 finished with value: 0.009852676629771991 and parameters: {'n_estimators': 3000, 'min_samples_split': 8}. Best is trial 14 with value: 0.009852676629771991.\n",
      "[I 2023-11-12 20:08:32,578] Trial 33 finished with value: 0.009899603221102013 and parameters: {'n_estimators': 3000, 'min_samples_split': 11}. Best is trial 14 with value: 0.009852676629771991.\n",
      "[I 2023-11-12 20:08:52,593] Trial 34 finished with value: 0.009866206794385515 and parameters: {'n_estimators': 3500, 'min_samples_split': 9}. Best is trial 14 with value: 0.009852676629771991.\n",
      "[I 2023-11-12 20:09:22,948] Trial 35 finished with value: 0.009897308467392094 and parameters: {'n_estimators': 4000, 'min_samples_split': 5}. Best is trial 14 with value: 0.009852676629771991.\n",
      "[I 2023-11-12 20:09:36,268] Trial 36 finished with value: 0.009878284572368737 and parameters: {'n_estimators': 2000, 'min_samples_split': 6}. Best is trial 14 with value: 0.009852676629771991.\n",
      "[I 2023-11-12 20:09:50,601] Trial 37 finished with value: 0.009922564759013658 and parameters: {'n_estimators': 3000, 'min_samples_split': 12}. Best is trial 14 with value: 0.009852676629771991.\n",
      "[I 2023-11-12 20:10:03,012] Trial 38 finished with value: 0.0098630927001898 and parameters: {'n_estimators': 2000, 'min_samples_split': 7}. Best is trial 14 with value: 0.009852676629771991.\n",
      "[I 2023-11-12 20:10:24,924] Trial 39 finished with value: 0.009875094239750417 and parameters: {'n_estimators': 4000, 'min_samples_split': 10}. Best is trial 14 with value: 0.009852676629771991.\n",
      "[I 2023-11-12 20:10:45,473] Trial 40 finished with value: 0.009855473003978498 and parameters: {'n_estimators': 3500, 'min_samples_split': 8}. Best is trial 14 with value: 0.009852676629771991.\n",
      "[I 2023-11-12 20:11:00,149] Trial 41 finished with value: 0.009853513784816671 and parameters: {'n_estimators': 2500, 'min_samples_split': 8}. Best is trial 14 with value: 0.009852676629771991.\n",
      "[I 2023-11-12 20:11:15,622] Trial 42 finished with value: 0.009860623827986333 and parameters: {'n_estimators': 2500, 'min_samples_split': 7}. Best is trial 14 with value: 0.009852676629771991.\n",
      "[I 2023-11-12 20:11:32,419] Trial 43 finished with value: 0.009866672768072062 and parameters: {'n_estimators': 3000, 'min_samples_split': 9}. Best is trial 14 with value: 0.009852676629771991.\n",
      "[I 2023-11-12 20:11:45,967] Trial 44 finished with value: 0.00986643385752246 and parameters: {'n_estimators': 2500, 'min_samples_split': 9}. Best is trial 14 with value: 0.009852676629771991.\n",
      "[I 2023-11-12 20:12:05,847] Trial 45 finished with value: 0.009875210520579028 and parameters: {'n_estimators': 3000, 'min_samples_split': 6}. Best is trial 14 with value: 0.009852676629771991.\n",
      "[I 2023-11-12 20:12:17,483] Trial 46 finished with value: 0.009853217084315071 and parameters: {'n_estimators': 2000, 'min_samples_split': 8}. Best is trial 14 with value: 0.009852676629771991.\n",
      "[I 2023-11-12 20:12:28,890] Trial 47 finished with value: 0.009901563273123632 and parameters: {'n_estimators': 1500, 'min_samples_split': 5}. Best is trial 14 with value: 0.009852676629771991.\n",
      "[I 2023-11-12 20:12:35,341] Trial 48 finished with value: 0.0098617466147775 and parameters: {'n_estimators': 1000, 'min_samples_split': 7}. Best is trial 14 with value: 0.009852676629771991.\n",
      "[I 2023-11-12 20:12:46,411] Trial 49 finished with value: 0.009885477334162791 and parameters: {'n_estimators': 2000, 'min_samples_split': 10}. Best is trial 14 with value: 0.009852676629771991.\n"
     ]
    }
   ],
   "source": [
    "study = optuna.create_study()\n",
    "study.optimize(objective, n_trials=50)"
   ],
   "metadata": {
    "collapsed": false,
    "ExecuteTime": {
     "end_time": "2023-11-12T19:12:46.417123900Z",
     "start_time": "2023-11-12T18:59:22.182631400Z"
    }
   },
   "id": "17593bdc599d22e3"
  },
  {
   "cell_type": "code",
   "execution_count": 12,
   "outputs": [
    {
     "name": "stdout",
     "output_type": "stream",
     "text": [
      "{'n_estimators': 3000, 'min_samples_split': 8}\n",
      "0.009852676629771991\n"
     ]
    }
   ],
   "source": [
    "print(study.best_params)\n",
    "print(study.best_value)"
   ],
   "metadata": {
    "collapsed": false,
    "ExecuteTime": {
     "end_time": "2023-11-12T19:12:46.423988500Z",
     "start_time": "2023-11-12T19:12:46.421988900Z"
    }
   },
   "id": "aa3c28e6c494660"
  },
  {
   "cell_type": "markdown",
   "source": [
    "# 4. The final model"
   ],
   "metadata": {
    "collapsed": false
   },
   "id": "a857d7d6f69a395f"
  },
  {
   "cell_type": "code",
   "execution_count": 13,
   "outputs": [
    {
     "data": {
      "text/plain": "array([0.2421138 , 0.23728241, 0.24400864, ..., 0.1058166 , 0.15369956,\n       0.11229617])"
     },
     "execution_count": 13,
     "metadata": {},
     "output_type": "execute_result"
    }
   ],
   "source": [
    "model = sklearn.ensemble.ExtraTreesRegressor(**study.best_params, n_jobs=-1, random_state=26).fit(X_train, Y_train)\n",
    "Y_ = model.predict(X_test)\n",
    "Y_"
   ],
   "metadata": {
    "collapsed": false,
    "ExecuteTime": {
     "end_time": "2023-11-12T19:13:06.996345900Z",
     "start_time": "2023-11-12T19:12:46.422988600Z"
    }
   },
   "id": "ab865eff2bc185b8"
  },
  {
   "cell_type": "code",
   "execution_count": 14,
   "outputs": [],
   "source": [
    "result = pd.DataFrame(data={'p0q0': list(Y_)})\n",
    "result[\"\"] = range(1, len(Y_) + 1)\n",
    "result.to_csv('Y_3000_8.csv', header=True, index=False, columns=['', 'p0q0'])"
   ],
   "metadata": {
    "collapsed": false,
    "ExecuteTime": {
     "end_time": "2023-11-12T19:13:07.047894200Z",
     "start_time": "2023-11-12T19:13:07.005344700Z"
    }
   },
   "id": "52486aa33e83ee3f"
  }
 ],
 "metadata": {
  "kernelspec": {
   "display_name": "Python 3",
   "language": "python",
   "name": "python3"
  },
  "language_info": {
   "codemirror_mode": {
    "name": "ipython",
    "version": 2
   },
   "file_extension": ".py",
   "mimetype": "text/x-python",
   "name": "python",
   "nbconvert_exporter": "python",
   "pygments_lexer": "ipython2",
   "version": "2.7.6"
  }
 },
 "nbformat": 4,
 "nbformat_minor": 5
}
